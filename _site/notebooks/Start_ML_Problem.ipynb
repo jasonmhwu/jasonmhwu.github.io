{
 "cells": [
  {
   "cell_type": "markdown",
   "metadata": {},
   "source": [
    "# Core steps to start a typical machine learning problem\n",
    "\n",
    "Welcome to my first post! \n",
    "\n",
    "I have been taking almost all of the kaggle courses in the past several weeks, and I have learned quite a lot from them. While I am already familiar with most of the basic machine learning algorithms, there are plenty of useful packages that I haven't been taking advantage of, and there are some good rule of thumbs that I didn't know. The purpose of this notebook is to document useful code sbnippets I learned from these courses, and hopefully they can be reused in my future data science projects!\n",
    "\n",
    "This is also a good practice for me to learn Markdown and host Jupyter notebooks."
   ]
  },
  {
   "cell_type": "markdown",
   "metadata": {},
   "source": [
    "## Example dataset: predicting house prices \n",
    "\n",
    "I am going to use the tutorial [housing prices prediction dataset](https://www.kaggle.com/c/home-data-for-ml-course) from Kaggle. We will try to predict the house prices based on some features such as number of rooms and house area. Let's first load the data in:"
   ]
  },
  {
   "cell_type": "code",
   "execution_count": 1,
   "metadata": {},
   "outputs": [
    {
     "name": "stdout",
     "output_type": "stream",
     "text": [
      "Train dataset has 1460 data points with 80 columns\n",
      "\n",
      "Remove Rows with missing y\n",
      "Train dataset now has 1460 data points with 79 columns\n"
     ]
    }
   ],
   "source": [
    "# load in the dataset\n",
    "import os\n",
    "import pandas as pd\n",
    "import numpy as np\n",
    "from sklearn.model_selection import train_test_split \n",
    "\n",
    "dataset_path = \"../datasets/house_prices_prediction/\"\n",
    "\n",
    "X_full = pd.read_csv(os.path.join(dataset_path, 'train.csv'), index_col='Id')\n",
    "X_test_full = pd.read_csv(os.path.join(dataset_path, 'test.csv'), index_col='Id')\n",
    "print('Train dataset has {} data points with {} columns'.format(X_full.shape[0], X_full.shape[1]))\n",
    "\n",
    "# Remove rows with missing y (house price) and separate dataset into X and y\n",
    "X_full.dropna(axis=0, subset=['SalePrice'], inplace=True)\n",
    "y = X_full.SalePrice\n",
    "X_full.drop(['SalePrice'], axis=1, inplace=True)\n",
    "print('\\nRemove Rows with missing y')\n",
    "print('Train dataset now has {} data points with {} columns'.format(X_full.shape[0], X_full.shape[1]))\n",
    "\n",
    "\n"
   ]
  },
  {
   "cell_type": "markdown",
   "metadata": {},
   "source": [
    "### Data cleaning: deal with missing values\n",
    "\n",
    "We should always inspect the data first with the *head()* or *describe()* function. Specifically, we should watch out for missing entries, as most ML algorithms except random forest aren't designed to handle them.\n",
    "\n",
    "We should output the name of the columns with missing entries"
   ]
  },
  {
   "cell_type": "code",
   "execution_count": 2,
   "metadata": {},
   "outputs": [
    {
     "name": "stdout",
     "output_type": "stream",
     "text": [
      "Columns with NA entries: \n",
      "PoolQC          1453\n",
      "MiscFeature     1406\n",
      "Alley           1369\n",
      "Fence           1179\n",
      "FireplaceQu      690\n",
      "LotFrontage      259\n",
      "GarageCond        81\n",
      "GarageType        81\n",
      "GarageYrBlt       81\n",
      "GarageFinish      81\n",
      "GarageQual        81\n",
      "BsmtExposure      38\n",
      "BsmtFinType2      38\n",
      "BsmtFinType1      37\n",
      "BsmtCond          37\n",
      "BsmtQual          37\n",
      "MasVnrArea         8\n",
      "MasVnrType         8\n",
      "Electrical         1\n",
      "dtype: int64\n"
     ]
    }
   ],
   "source": [
    "# always try to get an idea of the data you are working with!\n",
    "#print(X_full.head())\n",
    "#print(X_full.describe())\n",
    "\n",
    "# look for columns with missing entries\n",
    "NA_column_names = X_full.isnull().sum().sort_values(ascending=False)\n",
    "NA_column_names = NA_column_names[NA_column_names > 0]\n",
    "print('Columns with NA entries: ')\n",
    "print(NA_column_names)"
   ]
  },
  {
   "cell_type": "markdown",
   "metadata": {},
   "source": [
    "There are several columns with missing entries. Columns with few missing entries such as *Electrical* can usually be dropped directly. For the other columns, we should look into the data description to see why there are missing values.\n",
    "\n",
    "Are they simply not recorded, or are they left blank for obvious reasons? \n",
    "\n",
    "How should we deal with these columns?\n",
    "1. We can simply drop the column\n",
    "2. We can use an imputer to replace NA values with mean, median etc...\n",
    "3. We can use an imputer plus adding feature columns to denote the imputed entries"
   ]
  },
  {
   "cell_type": "code",
   "execution_count": 3,
   "metadata": {},
   "outputs": [
    {
     "data": {
      "text/plain": [
       "Index(['MSSubClass', 'MSZoning', 'LotFrontage', 'LotArea', 'Street', 'Alley',\n",
       "       'LotShape', 'LandContour', 'Utilities', 'LotConfig', 'LandSlope',\n",
       "       'Neighborhood', 'Condition1', 'Condition2', 'BldgType', 'HouseStyle',\n",
       "       'OverallQual', 'OverallCond', 'YearBuilt', 'YearRemodAdd', 'RoofStyle',\n",
       "       'RoofMatl', 'Exterior1st', 'Exterior2nd', 'MasVnrType', 'MasVnrArea',\n",
       "       'ExterQual', 'ExterCond', 'Foundation', 'BsmtQual', 'BsmtCond',\n",
       "       'BsmtExposure', 'BsmtFinType1', 'BsmtFinSF1', 'BsmtFinType2',\n",
       "       'BsmtFinSF2', 'BsmtUnfSF', 'TotalBsmtSF', 'Heating', 'HeatingQC',\n",
       "       'CentralAir', 'Electrical', '1stFlrSF', '2ndFlrSF', 'LowQualFinSF',\n",
       "       'GrLivArea', 'BsmtFullBath', 'BsmtHalfBath', 'FullBath', 'HalfBath',\n",
       "       'BedroomAbvGr', 'KitchenAbvGr', 'KitchenQual', 'TotRmsAbvGrd',\n",
       "       'Functional', 'Fireplaces', 'FireplaceQu', 'GarageType', 'GarageYrBlt',\n",
       "       'GarageFinish', 'GarageCars', 'GarageArea', 'GarageQual', 'GarageCond',\n",
       "       'PavedDrive', 'WoodDeckSF', 'OpenPorchSF', 'EnclosedPorch', '3SsnPorch',\n",
       "       'ScreenPorch', 'PoolArea', 'PoolQC', 'Fence', 'MiscFeature', 'MiscVal',\n",
       "       'MoSold', 'YrSold', 'SaleType', 'SaleCondition'],\n",
       "      dtype='object')"
      ]
     },
     "execution_count": 3,
     "metadata": {},
     "output_type": "execute_result"
    }
   ],
   "source": [
    "X_full.columns"
   ]
  },
  {
   "cell_type": "code",
   "execution_count": 4,
   "metadata": {},
   "outputs": [
    {
     "name": "stdout",
     "output_type": "stream",
     "text": [
      "column LotFrontage has 259 NA entries\n",
      "count    1201.000000\n",
      "mean       70.049958\n",
      "std        24.284752\n",
      "min        21.000000\n",
      "25%        59.000000\n",
      "50%        69.000000\n",
      "75%        80.000000\n",
      "max       313.000000\n",
      "Name: LotFrontage, dtype: float64\n"
     ]
    },
    {
     "data": {
      "text/plain": [
       "<AxesSubplot:>"
      ]
     },
     "execution_count": 4,
     "metadata": {},
     "output_type": "execute_result"
    },
    {
     "data": {
      "image/png": "[encoded data removed]",
      "text/plain": [
       "<Figure size 432x288 with 1 Axes>"
      ]
     },
     "metadata": {
      "needs_background": "light"
     },
     "output_type": "display_data"
    }
   ],
   "source": [
    "idx = 2\n",
    "colname = X_full.columns[idx]\n",
    "print('column {} has {} NA entries'.format(colname, X_full[colname].isna().sum()))\n",
    "print(X_full[colname].describe())\n",
    "X_full[colname].hist(bins=10)"
   ]
  },
  {
   "cell_type": "code",
   "execution_count": 6,
   "metadata": {},
   "outputs": [],
   "source": [
    "# Perform various actions on theses columns with missing entries \n",
    "from sklearn.preprocessing import OrdinalEncoder, OneHotEncoder, StandardScaler\n",
    "from sklearn.pipeline import Pipeline, make_pipeline\n",
    "from sklearn.impute import SimpleImputer\n",
    "from sklearn.compose import make_column_transformer\n",
    "\n",
    "X = X_full.copy()\n",
    "\n",
    "y = np.log1p(y) # looks more Gaussian-like\n",
    "\n",
    "# 1. There are only several houses with MiscFeature, and MiscVal stores there value\n",
    "#    All possible values are ['Elev', 'Gar2', 'Othr', 'Shed', 'TenC']\n",
    "#    Most are just 'Shed'\n",
    "#    I will create a column ShedArea to record MiscVal for Shed, and throw away column MiscFeature and MiscVal\n",
    "isShed = X.MiscFeature == 'Shed'\n",
    "X.loc[isShed, 'MiscVal'] = 0.0\n",
    "X.rename(columns={'MiscVal': 'ShedArea'}, inplace=True)\n",
    "X.drop(columns=['MiscFeature'], inplace=True)\n",
    "\n",
    "# 2. Alley: only Grvl or Pave alley\n",
    "#    use two one-hot columns (GrvlAlley, PaveAlley) here and drop Alley\n",
    "X['isGrvlAlley'] = pd.Series(X.Alley == 'Grvl', index=X.index, dtype=float)\n",
    "X['isPavedAlley'] = pd.Series(X.Alley == 'Pave', index=X.index, dtype=float)\n",
    "X.drop(columns=['Alley'], inplace=True)\n",
    "\n",
    "# 3. Fence: good/minimum privacy, good/minimum wood\n",
    "#    column FencePrivacy: [2, 1, 0] for [good/minimum/NA]\n",
    "#    column FenceWood: [2, 1, 0] for [good/minimum/NA]\n",
    "X['FencePrivacy'] = X.Fence.map({'GdPrv': 2.0, 'MnPrv': 1.0, 'GdWo': 0.0, 'MnWw': 0.0, np.nan: 0.0})\n",
    "X['FenceWood'] = X.Fence.map({'GdPrv': 0.0, 'MnPrv': 0.0, 'GdWo': 2.0, 'MnWw': 1.0, np.nan: 0.0})\n",
    "X.drop(columns=['Fence'], inplace=True)\n",
    "\n",
    "# 4. LotFrontage: replace with 0 or average?\n",
    "\n",
    "# 5. Garage columns\n",
    "#    replace NA entries in GarageYrBlt with the oldest year\n",
    "X.GarageYrBlt.fillna(1900.00, inplace=True)\n",
    "\n",
    "\n",
    "# 6. MasVnr columns\n",
    "#    should change NA entries in MasVnrType to 'None'\n",
    "#    should change NA entries in MasVnrArea to 0.0\n",
    "\n",
    "X.MasVnrType.fillna('None', inplace=True)\n",
    "X.MasVnrArea.fillna(0.0, inplace=True)\n",
    "\n",
    "# 7. Electrical columns\n",
    "#    only one missing entry: throw this row away!\n",
    "y = y[X.Electrical.notna()]\n",
    "X = X[X.Electrical.notna()]\n",
    "\n",
    "# 8. CentralAir column:\n",
    "X.CentralAir = X.CentralAir.map({'N': 0.0, 'Y': 1.0})\n",
    "\n",
    "# For the rest of the columns, we apply the default pipeline\n",
    "one_hot_cols = ['MSZoning', 'LotConfig', 'BldgType', 'HouseStyle', 'RoofStyle', 'RoofMatl', \n",
    "                'Foundation', 'Heating', 'MasVnrType', 'GarageType']\n",
    "#ordinal_cols = ['Street', 'LotShape', 'LandContour', 'Utilities', \n",
    "#                'LandSlope', 'ExterQual', 'ExterCond', 'HeatingQC', 'Electrical', 'KitchenQual', 'Functional', \n",
    "#                'PavedDrive', 'PoolQC', 'FireplaceQu', 'GarageQual', 'GarageCond', 'GarageFinish', \n",
    "#                'BsmtQual', 'BsmtCond', 'BsmtExposure']\n",
    "too_many_entries_cols = ['Neighborhood', 'Condition1', 'Condition2', 'Exterior1st', 'Exterior2nd', \n",
    "                         'SaleType', 'SaleCondition']\n",
    "X.drop(columns=too_many_entries_cols, inplace=True)\n",
    "\n",
    "num_cols = X.columns[(X.dtypes == 'float64') | (X.dtypes == 'int64')]\n",
    "\n",
    "categories_onehot = [\n",
    "    X[column].unique() for column in X[one_hot_cols]]\n",
    "\n",
    "for cat in categories_onehot:\n",
    "    cat[cat == np.nan] = 'missing'  # replace NA entries with 'missing'\n",
    "    \n",
    "def cat_proc_ordinal(categories, num_cols):\n",
    "    \"\"\"Create preprocessing pipeline for ordinal category variables. takes list-like categories\"\"\"\n",
    "    return make_pipeline(\n",
    "        SimpleImputer(missing_values=np.nan, strategy='constant',\n",
    "            fill_value='Missing'),\n",
    "        OrdinalEncoder(categories=[np.array(categories)] * num_cols, dtype=np.float)\n",
    "        )\n",
    "\n",
    "cat_proc_onehot = make_pipeline(\n",
    "    SimpleImputer(missing_values=np.nan,\n",
    "                  strategy='constant',\n",
    "                  fill_value='Missing'),\n",
    "    OneHotEncoder(dtype=np.float, handle_unknown='ignore')\n",
    ")\n",
    "\n",
    "num_proc = make_pipeline(\n",
    "    SimpleImputer(strategy='mean'),\n",
    "    StandardScaler()\n",
    ")\n",
    "\n",
    "# deal with ordinal columns separately\n",
    "preprocessor = make_column_transformer(\n",
    "    (cat_proc_ordinal(['Grvl', 'Pave'], 1), ['Street']),\n",
    "    (cat_proc_ordinal(['IR3', 'IR2', 'IR1', 'Reg'], 1), ['LotShape']),\n",
    "    (cat_proc_ordinal(['Low', 'HLS', 'Bnk', 'Lvl'], 1), ['LandContour']),\n",
    "    (cat_proc_ordinal(['ELO', 'NoSeWa', 'NoSeWr', 'AllPub'], 1), ['Utilities']),\n",
    "    (cat_proc_ordinal(['Sev', 'Mod', 'Gtl'], 1), ['LandSlope']),\n",
    "    (cat_proc_ordinal(['FuseP', 'FuseF', 'FuseA', 'Mix', 'SBrkr'], 1), ['Electrical']),\n",
    "    (cat_proc_ordinal(['Sal', 'Sev', 'Maj2', 'Maj1', 'Mod', 'Min2', 'Min1', 'Typ'], 1), ['Functional']),\n",
    "    (cat_proc_ordinal(['N', 'P', 'Y'], 1), ['PavedDrive']),\n",
    "    (cat_proc_ordinal(['Missing', 'Unf', 'RFn', 'Fin'], 1), ['GarageFinish']),\n",
    "    (cat_proc_ordinal(['Missing', 'Unf', 'LwQ', 'Rec', 'BLQ', 'ALQ', 'GLQ'], 2), ['BsmtFinType1', 'BsmtFinType2']),\n",
    "    (cat_proc_ordinal(['Po', 'Fa', 'TA', 'Gd', 'Ex'], 4), \n",
    "         ['ExterQual', 'ExterCond', 'HeatingQC', 'KitchenQual']),\n",
    "    (cat_proc_ordinal(['Missing', 'Po', 'Fa', 'TA', 'Gd', 'Ex'], 5), \n",
    "         ['FireplaceQu', 'GarageQual', 'GarageCond', 'BsmtQual', 'BsmtCond']),\n",
    "    (cat_proc_ordinal(['Missing', 'Fa', 'TA', 'Gd', 'Ex'], 1), ['PoolQC']),\n",
    "    (cat_proc_ordinal(['Missing', 'No', 'Mn', 'Av', 'Gd'], 1), ['BsmtExposure']),\n",
    "    (cat_proc_onehot, one_hot_cols),\n",
    "    (num_proc, num_cols),\n",
    "    remainder='passthrough')\n"
   ]
  },
  {
   "cell_type": "markdown",
   "metadata": {},
   "source": [
    "### Cut dataset into training and validation set and start training\n",
    "\n"
   ]
  },
  {
   "cell_type": "code",
   "execution_count": 7,
   "metadata": {},
   "outputs": [
    {
     "name": "stdout",
     "output_type": "stream",
     "text": [
      "Fitting 5 folds for each of 405 candidates, totalling 2025 fits\n"
     ]
    },
    {
     "name": "stderr",
     "output_type": "stream",
     "text": [
      "[Parallel(n_jobs=2)]: Using backend LokyBackend with 2 concurrent workers.\n"
     ]
    },
    {
     "ename": "KeyboardInterrupt",
     "evalue": "",
     "output_type": "error",
     "traceback": [
      "\u001b[0;31m---------------------------------------------------------------------------\u001b[0m",
      "\u001b[0;31mKeyboardInterrupt\u001b[0m                         Traceback (most recent call last)",
      "\u001b[0;32m<ipython-input-7-0f5a3ca916a4>\u001b[0m in \u001b[0;36m<module>\u001b[0;34m\u001b[0m\n\u001b[1;32m     23\u001b[0m                                   'reg_lambda': np.logspace(-2, 0, 3)}, verbose=1,\n\u001b[1;32m     24\u001b[0m                        n_jobs=2, cv=5, scoring='neg_mean_absolute_error')\n\u001b[0;32m---> 25\u001b[0;31m \u001b[0mxgb_clf\u001b[0m\u001b[0;34m.\u001b[0m\u001b[0mfit\u001b[0m\u001b[0;34m(\u001b[0m\u001b[0mpreprocessor\u001b[0m\u001b[0;34m.\u001b[0m\u001b[0mfit_transform\u001b[0m\u001b[0;34m(\u001b[0m\u001b[0mX\u001b[0m\u001b[0;34m)\u001b[0m\u001b[0;34m,\u001b[0m \u001b[0my\u001b[0m\u001b[0;34m)\u001b[0m\u001b[0;34m\u001b[0m\u001b[0;34m\u001b[0m\u001b[0m\n\u001b[0m\u001b[1;32m     26\u001b[0m \u001b[0;34m\u001b[0m\u001b[0m\n\u001b[1;32m     27\u001b[0m \u001b[0;31m# TODO: try DART booster\u001b[0m\u001b[0;34m\u001b[0m\u001b[0;34m\u001b[0m\u001b[0;34m\u001b[0m\u001b[0m\n",
      "\u001b[0;32m/opt/anaconda3/envs/kaggle/lib/python3.8/site-packages/sklearn/utils/validation.py\u001b[0m in \u001b[0;36minner_f\u001b[0;34m(*args, **kwargs)\u001b[0m\n\u001b[1;32m     70\u001b[0m                           FutureWarning)\n\u001b[1;32m     71\u001b[0m         \u001b[0mkwargs\u001b[0m\u001b[0;34m.\u001b[0m\u001b[0mupdate\u001b[0m\u001b[0;34m(\u001b[0m\u001b[0;34m{\u001b[0m\u001b[0mk\u001b[0m\u001b[0;34m:\u001b[0m \u001b[0marg\u001b[0m \u001b[0;32mfor\u001b[0m \u001b[0mk\u001b[0m\u001b[0;34m,\u001b[0m \u001b[0marg\u001b[0m \u001b[0;32min\u001b[0m \u001b[0mzip\u001b[0m\u001b[0;34m(\u001b[0m\u001b[0msig\u001b[0m\u001b[0;34m.\u001b[0m\u001b[0mparameters\u001b[0m\u001b[0;34m,\u001b[0m \u001b[0margs\u001b[0m\u001b[0;34m)\u001b[0m\u001b[0;34m}\u001b[0m\u001b[0;34m)\u001b[0m\u001b[0;34m\u001b[0m\u001b[0;34m\u001b[0m\u001b[0m\n\u001b[0;32m---> 72\u001b[0;31m         \u001b[0;32mreturn\u001b[0m \u001b[0mf\u001b[0m\u001b[0;34m(\u001b[0m\u001b[0;34m**\u001b[0m\u001b[0mkwargs\u001b[0m\u001b[0;34m)\u001b[0m\u001b[0;34m\u001b[0m\u001b[0;34m\u001b[0m\u001b[0m\n\u001b[0m\u001b[1;32m     73\u001b[0m     \u001b[0;32mreturn\u001b[0m \u001b[0minner_f\u001b[0m\u001b[0;34m\u001b[0m\u001b[0;34m\u001b[0m\u001b[0m\n\u001b[1;32m     74\u001b[0m \u001b[0;34m\u001b[0m\u001b[0m\n",
      "\u001b[0;32m/opt/anaconda3/envs/kaggle/lib/python3.8/site-packages/sklearn/model_selection/_search.py\u001b[0m in \u001b[0;36mfit\u001b[0;34m(self, X, y, groups, **fit_params)\u001b[0m\n\u001b[1;32m    734\u001b[0m                 \u001b[0;32mreturn\u001b[0m \u001b[0mresults\u001b[0m\u001b[0;34m\u001b[0m\u001b[0;34m\u001b[0m\u001b[0m\n\u001b[1;32m    735\u001b[0m \u001b[0;34m\u001b[0m\u001b[0m\n\u001b[0;32m--> 736\u001b[0;31m             \u001b[0mself\u001b[0m\u001b[0;34m.\u001b[0m\u001b[0m_run_search\u001b[0m\u001b[0;34m(\u001b[0m\u001b[0mevaluate_candidates\u001b[0m\u001b[0;34m)\u001b[0m\u001b[0;34m\u001b[0m\u001b[0;34m\u001b[0m\u001b[0m\n\u001b[0m\u001b[1;32m    737\u001b[0m \u001b[0;34m\u001b[0m\u001b[0m\n\u001b[1;32m    738\u001b[0m         \u001b[0;31m# For multi-metric evaluation, store the best_index_, best_params_ and\u001b[0m\u001b[0;34m\u001b[0m\u001b[0;34m\u001b[0m\u001b[0;34m\u001b[0m\u001b[0m\n",
      "\u001b[0;32m/opt/anaconda3/envs/kaggle/lib/python3.8/site-packages/sklearn/model_selection/_search.py\u001b[0m in \u001b[0;36m_run_search\u001b[0;34m(self, evaluate_candidates)\u001b[0m\n\u001b[1;32m   1186\u001b[0m     \u001b[0;32mdef\u001b[0m \u001b[0m_run_search\u001b[0m\u001b[0;34m(\u001b[0m\u001b[0mself\u001b[0m\u001b[0;34m,\u001b[0m \u001b[0mevaluate_candidates\u001b[0m\u001b[0;34m)\u001b[0m\u001b[0;34m:\u001b[0m\u001b[0;34m\u001b[0m\u001b[0;34m\u001b[0m\u001b[0m\n\u001b[1;32m   1187\u001b[0m         \u001b[0;34m\"\"\"Search all candidates in param_grid\"\"\"\u001b[0m\u001b[0;34m\u001b[0m\u001b[0;34m\u001b[0m\u001b[0m\n\u001b[0;32m-> 1188\u001b[0;31m         \u001b[0mevaluate_candidates\u001b[0m\u001b[0;34m(\u001b[0m\u001b[0mParameterGrid\u001b[0m\u001b[0;34m(\u001b[0m\u001b[0mself\u001b[0m\u001b[0;34m.\u001b[0m\u001b[0mparam_grid\u001b[0m\u001b[0;34m)\u001b[0m\u001b[0;34m)\u001b[0m\u001b[0;34m\u001b[0m\u001b[0;34m\u001b[0m\u001b[0m\n\u001b[0m\u001b[1;32m   1189\u001b[0m \u001b[0;34m\u001b[0m\u001b[0m\n\u001b[1;32m   1190\u001b[0m \u001b[0;34m\u001b[0m\u001b[0m\n",
      "\u001b[0;32m/opt/anaconda3/envs/kaggle/lib/python3.8/site-packages/sklearn/model_selection/_search.py\u001b[0m in \u001b[0;36mevaluate_candidates\u001b[0;34m(candidate_params)\u001b[0m\n\u001b[1;32m    706\u001b[0m                               n_splits, n_candidates, n_candidates * n_splits))\n\u001b[1;32m    707\u001b[0m \u001b[0;34m\u001b[0m\u001b[0m\n\u001b[0;32m--> 708\u001b[0;31m                 out = parallel(delayed(_fit_and_score)(clone(base_estimator),\n\u001b[0m\u001b[1;32m    709\u001b[0m                                                        \u001b[0mX\u001b[0m\u001b[0;34m,\u001b[0m \u001b[0my\u001b[0m\u001b[0;34m,\u001b[0m\u001b[0;34m\u001b[0m\u001b[0;34m\u001b[0m\u001b[0m\n\u001b[1;32m    710\u001b[0m                                                        \u001b[0mtrain\u001b[0m\u001b[0;34m=\u001b[0m\u001b[0mtrain\u001b[0m\u001b[0;34m,\u001b[0m \u001b[0mtest\u001b[0m\u001b[0;34m=\u001b[0m\u001b[0mtest\u001b[0m\u001b[0;34m,\u001b[0m\u001b[0;34m\u001b[0m\u001b[0;34m\u001b[0m\u001b[0m\n",
      "\u001b[0;32m/opt/anaconda3/envs/kaggle/lib/python3.8/site-packages/joblib/parallel.py\u001b[0m in \u001b[0;36m__call__\u001b[0;34m(self, iterable)\u001b[0m\n\u001b[1;32m   1040\u001b[0m \u001b[0;34m\u001b[0m\u001b[0m\n\u001b[1;32m   1041\u001b[0m             \u001b[0;32mwith\u001b[0m \u001b[0mself\u001b[0m\u001b[0;34m.\u001b[0m\u001b[0m_backend\u001b[0m\u001b[0;34m.\u001b[0m\u001b[0mretrieval_context\u001b[0m\u001b[0;34m(\u001b[0m\u001b[0;34m)\u001b[0m\u001b[0;34m:\u001b[0m\u001b[0;34m\u001b[0m\u001b[0;34m\u001b[0m\u001b[0m\n\u001b[0;32m-> 1042\u001b[0;31m                 \u001b[0mself\u001b[0m\u001b[0;34m.\u001b[0m\u001b[0mretrieve\u001b[0m\u001b[0;34m(\u001b[0m\u001b[0;34m)\u001b[0m\u001b[0;34m\u001b[0m\u001b[0;34m\u001b[0m\u001b[0m\n\u001b[0m\u001b[1;32m   1043\u001b[0m             \u001b[0;31m# Make sure that we get a last message telling us we are done\u001b[0m\u001b[0;34m\u001b[0m\u001b[0;34m\u001b[0m\u001b[0;34m\u001b[0m\u001b[0m\n\u001b[1;32m   1044\u001b[0m             \u001b[0melapsed_time\u001b[0m \u001b[0;34m=\u001b[0m \u001b[0mtime\u001b[0m\u001b[0;34m.\u001b[0m\u001b[0mtime\u001b[0m\u001b[0;34m(\u001b[0m\u001b[0;34m)\u001b[0m \u001b[0;34m-\u001b[0m \u001b[0mself\u001b[0m\u001b[0;34m.\u001b[0m\u001b[0m_start_time\u001b[0m\u001b[0;34m\u001b[0m\u001b[0;34m\u001b[0m\u001b[0m\n",
      "\u001b[0;32m/opt/anaconda3/envs/kaggle/lib/python3.8/site-packages/joblib/parallel.py\u001b[0m in \u001b[0;36mretrieve\u001b[0;34m(self)\u001b[0m\n\u001b[1;32m    919\u001b[0m             \u001b[0;32mtry\u001b[0m\u001b[0;34m:\u001b[0m\u001b[0;34m\u001b[0m\u001b[0;34m\u001b[0m\u001b[0m\n\u001b[1;32m    920\u001b[0m                 \u001b[0;32mif\u001b[0m \u001b[0mgetattr\u001b[0m\u001b[0;34m(\u001b[0m\u001b[0mself\u001b[0m\u001b[0;34m.\u001b[0m\u001b[0m_backend\u001b[0m\u001b[0;34m,\u001b[0m \u001b[0;34m'supports_timeout'\u001b[0m\u001b[0;34m,\u001b[0m \u001b[0;32mFalse\u001b[0m\u001b[0;34m)\u001b[0m\u001b[0;34m:\u001b[0m\u001b[0;34m\u001b[0m\u001b[0;34m\u001b[0m\u001b[0m\n\u001b[0;32m--> 921\u001b[0;31m                     \u001b[0mself\u001b[0m\u001b[0;34m.\u001b[0m\u001b[0m_output\u001b[0m\u001b[0;34m.\u001b[0m\u001b[0mextend\u001b[0m\u001b[0;34m(\u001b[0m\u001b[0mjob\u001b[0m\u001b[0;34m.\u001b[0m\u001b[0mget\u001b[0m\u001b[0;34m(\u001b[0m\u001b[0mtimeout\u001b[0m\u001b[0;34m=\u001b[0m\u001b[0mself\u001b[0m\u001b[0;34m.\u001b[0m\u001b[0mtimeout\u001b[0m\u001b[0;34m)\u001b[0m\u001b[0;34m)\u001b[0m\u001b[0;34m\u001b[0m\u001b[0;34m\u001b[0m\u001b[0m\n\u001b[0m\u001b[1;32m    922\u001b[0m                 \u001b[0;32melse\u001b[0m\u001b[0;34m:\u001b[0m\u001b[0;34m\u001b[0m\u001b[0;34m\u001b[0m\u001b[0m\n\u001b[1;32m    923\u001b[0m                     \u001b[0mself\u001b[0m\u001b[0;34m.\u001b[0m\u001b[0m_output\u001b[0m\u001b[0;34m.\u001b[0m\u001b[0mextend\u001b[0m\u001b[0;34m(\u001b[0m\u001b[0mjob\u001b[0m\u001b[0;34m.\u001b[0m\u001b[0mget\u001b[0m\u001b[0;34m(\u001b[0m\u001b[0;34m)\u001b[0m\u001b[0;34m)\u001b[0m\u001b[0;34m\u001b[0m\u001b[0;34m\u001b[0m\u001b[0m\n",
      "\u001b[0;32m/opt/anaconda3/envs/kaggle/lib/python3.8/site-packages/joblib/_parallel_backends.py\u001b[0m in \u001b[0;36mwrap_future_result\u001b[0;34m(future, timeout)\u001b[0m\n\u001b[1;32m    540\u001b[0m         AsyncResults.get from multiprocessing.\"\"\"\n\u001b[1;32m    541\u001b[0m         \u001b[0;32mtry\u001b[0m\u001b[0;34m:\u001b[0m\u001b[0;34m\u001b[0m\u001b[0;34m\u001b[0m\u001b[0m\n\u001b[0;32m--> 542\u001b[0;31m             \u001b[0;32mreturn\u001b[0m \u001b[0mfuture\u001b[0m\u001b[0;34m.\u001b[0m\u001b[0mresult\u001b[0m\u001b[0;34m(\u001b[0m\u001b[0mtimeout\u001b[0m\u001b[0;34m=\u001b[0m\u001b[0mtimeout\u001b[0m\u001b[0;34m)\u001b[0m\u001b[0;34m\u001b[0m\u001b[0;34m\u001b[0m\u001b[0m\n\u001b[0m\u001b[1;32m    543\u001b[0m         \u001b[0;32mexcept\u001b[0m \u001b[0mCfTimeoutError\u001b[0m \u001b[0;32mas\u001b[0m \u001b[0me\u001b[0m\u001b[0;34m:\u001b[0m\u001b[0;34m\u001b[0m\u001b[0;34m\u001b[0m\u001b[0m\n\u001b[1;32m    544\u001b[0m             \u001b[0;32mraise\u001b[0m \u001b[0mTimeoutError\u001b[0m \u001b[0;32mfrom\u001b[0m \u001b[0me\u001b[0m\u001b[0;34m\u001b[0m\u001b[0;34m\u001b[0m\u001b[0m\n",
      "\u001b[0;32m/opt/anaconda3/envs/kaggle/lib/python3.8/concurrent/futures/_base.py\u001b[0m in \u001b[0;36mresult\u001b[0;34m(self, timeout)\u001b[0m\n\u001b[1;32m    432\u001b[0m                 \u001b[0;32mreturn\u001b[0m \u001b[0mself\u001b[0m\u001b[0;34m.\u001b[0m\u001b[0m__get_result\u001b[0m\u001b[0;34m(\u001b[0m\u001b[0;34m)\u001b[0m\u001b[0;34m\u001b[0m\u001b[0;34m\u001b[0m\u001b[0m\n\u001b[1;32m    433\u001b[0m \u001b[0;34m\u001b[0m\u001b[0m\n\u001b[0;32m--> 434\u001b[0;31m             \u001b[0mself\u001b[0m\u001b[0;34m.\u001b[0m\u001b[0m_condition\u001b[0m\u001b[0;34m.\u001b[0m\u001b[0mwait\u001b[0m\u001b[0;34m(\u001b[0m\u001b[0mtimeout\u001b[0m\u001b[0;34m)\u001b[0m\u001b[0;34m\u001b[0m\u001b[0;34m\u001b[0m\u001b[0m\n\u001b[0m\u001b[1;32m    435\u001b[0m \u001b[0;34m\u001b[0m\u001b[0m\n\u001b[1;32m    436\u001b[0m             \u001b[0;32mif\u001b[0m \u001b[0mself\u001b[0m\u001b[0;34m.\u001b[0m\u001b[0m_state\u001b[0m \u001b[0;32min\u001b[0m \u001b[0;34m[\u001b[0m\u001b[0mCANCELLED\u001b[0m\u001b[0;34m,\u001b[0m \u001b[0mCANCELLED_AND_NOTIFIED\u001b[0m\u001b[0;34m]\u001b[0m\u001b[0;34m:\u001b[0m\u001b[0;34m\u001b[0m\u001b[0;34m\u001b[0m\u001b[0m\n",
      "\u001b[0;32m/opt/anaconda3/envs/kaggle/lib/python3.8/threading.py\u001b[0m in \u001b[0;36mwait\u001b[0;34m(self, timeout)\u001b[0m\n\u001b[1;32m    300\u001b[0m         \u001b[0;32mtry\u001b[0m\u001b[0;34m:\u001b[0m    \u001b[0;31m# restore state no matter what (e.g., KeyboardInterrupt)\u001b[0m\u001b[0;34m\u001b[0m\u001b[0;34m\u001b[0m\u001b[0m\n\u001b[1;32m    301\u001b[0m             \u001b[0;32mif\u001b[0m \u001b[0mtimeout\u001b[0m \u001b[0;32mis\u001b[0m \u001b[0;32mNone\u001b[0m\u001b[0;34m:\u001b[0m\u001b[0;34m\u001b[0m\u001b[0;34m\u001b[0m\u001b[0m\n\u001b[0;32m--> 302\u001b[0;31m                 \u001b[0mwaiter\u001b[0m\u001b[0;34m.\u001b[0m\u001b[0macquire\u001b[0m\u001b[0;34m(\u001b[0m\u001b[0;34m)\u001b[0m\u001b[0;34m\u001b[0m\u001b[0;34m\u001b[0m\u001b[0m\n\u001b[0m\u001b[1;32m    303\u001b[0m                 \u001b[0mgotit\u001b[0m \u001b[0;34m=\u001b[0m \u001b[0;32mTrue\u001b[0m\u001b[0;34m\u001b[0m\u001b[0;34m\u001b[0m\u001b[0m\n\u001b[1;32m    304\u001b[0m             \u001b[0;32melse\u001b[0m\u001b[0;34m:\u001b[0m\u001b[0;34m\u001b[0m\u001b[0;34m\u001b[0m\u001b[0m\n",
      "\u001b[0;31mKeyboardInterrupt\u001b[0m: "
     ]
    }
   ],
   "source": [
    "from sklearn.experimental import enable_hist_gradient_boosting  # noqa\n",
    "from sklearn.ensemble import HistGradientBoostingRegressor\n",
    "from sklearn.ensemble import RandomForestRegressor\n",
    "from sklearn.ensemble import StackingRegressor\n",
    "from sklearn.linear_model import LassoCV\n",
    "from sklearn.linear_model import RidgeCV\n",
    "from sklearn.metrics import mean_absolute_error\n",
    "from sklearn.model_selection import GridSearchCV\n",
    "import xgboost as xgb\n",
    "from xgboost import XGBRegressor\n",
    "\n",
    "X_train, X_valid, y_train, y_valid = train_test_split(X, y, train_size=0.8, test_size=0.2,\n",
    "                                                      random_state=0)\n",
    "\n",
    "# I will compare a random forest model to a xgboost model\n",
    "#X_train_transformed = preprocessor.fit_transform(X_train)\n",
    "#X_valid_transformed = preprocessor.transform(X_valid)\n",
    "xgb_model = XGBRegressor(n_estimators=700, learning_rate=0.02)\n",
    "xgb_clf = GridSearchCV(xgb_model, {'max_depth': [2, 4, 6],\n",
    "                                  'n_estimators': [100, 200, 300],\n",
    "                                  'learning_rate': [0.01, 0.03, 0.05],\n",
    "                                  'gamma': np.logspace(-5, 2, 5),\n",
    "                                  'reg_lambda': np.logspace(-2, 0, 3)}, verbose=1,\n",
    "                       n_jobs=2, cv=5, scoring='neg_mean_absolute_error')\n",
    "xgb_clf.fit(preprocessor.fit_transform(X), y)\n",
    "\n",
    "# TODO: try DART booster\n",
    "\n",
    "print('MAE trained with xg model: ', xgb_clf.best_score_)\n",
    "print('best xg model parameters: ', xgb_clf.best_params_)\n",
    "\n",
    "rf_pipeline = Pipeline(steps=[('preprocessor', preprocessor),\n",
    "                              ('model', RandomForestRegressor(random_state=0))])\n",
    "rf_pipeline.fit(X_train, y_train)\n",
    "y_pred_rf = rf_pipeline.predict(X_valid)\n",
    "\n",
    "# Evaluate the model\n",
    "score = mean_absolute_error(y_valid, y_pred_rf)\n",
    "print('MAE trained with rf model:', score)\n",
    "\n",
    "#estimators = [('Random Forest', rf_pipeline),\n",
    "#              ('Lasso', lasso_pipeline),\n",
    "#              ('Gradient Boosting', gradient_pipeline)]\n",
    "\n",
    "#stacking_regressor = StackingRegressor(estimators=estimators,\n",
    "#                                       final_estimator=RidgeCV())"
   ]
  },
  {
   "cell_type": "markdown",
   "metadata": {},
   "source": [
    "### Transform categorical features into numerical ones\n",
    "\n"
   ]
  },
  {
   "cell_type": "markdown",
   "metadata": {},
   "source": [
    "### Generate submission.csv"
   ]
  },
  {
   "cell_type": "code",
   "execution_count": 8,
   "metadata": {},
   "outputs": [],
   "source": [
    "# remember to apply np.exp1m to get back normal sale price!"
   ]
  }
 ],
 "metadata": {
  "kernelspec": {
   "display_name": "Python 3",
   "language": "python",
   "name": "python3"
  },
  "language_info": {
   "codemirror_mode": {
    "name": "ipython",
    "version": 3
   },
   "file_extension": ".py",
   "mimetype": "text/x-python",
   "name": "python",
   "nbconvert_exporter": "python",
   "pygments_lexer": "ipython3",
   "version": "3.8.5"
  }
 },
 "nbformat": 4,
 "nbformat_minor": 4
}
